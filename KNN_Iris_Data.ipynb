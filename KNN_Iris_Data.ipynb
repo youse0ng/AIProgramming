{
  "nbformat": 4,
  "nbformat_minor": 0,
  "metadata": {
    "colab": {
      "private_outputs": true,
      "provenance": [],
      "toc_visible": true,
      "authorship_tag": "ABX9TyN0ZQbhjXxCfMrTnOhSwAun",
      "include_colab_link": true
    },
    "kernelspec": {
      "name": "python3",
      "display_name": "Python 3"
    },
    "language_info": {
      "name": "python"
    }
  },
  "cells": [
    {
      "cell_type": "markdown",
      "metadata": {
        "id": "view-in-github",
        "colab_type": "text"
      },
      "source": [
        "<a href=\"https://colab.research.google.com/github/youse0ng/AIProgramming/blob/main/KNN_Iris_Data.ipynb\" target=\"_parent\"><img src=\"https://colab.research.google.com/assets/colab-badge.svg\" alt=\"Open In Colab\"/></a>"
      ]
    },
    {
      "cell_type": "markdown",
      "source": [
        "우선 필요한 라이브러리들을 불러 온다.\n",
        "- sklearn 사이킷런\n",
        "- matplotlib 맷플롯립"
      ],
      "metadata": {
        "id": "HRa_Y-NQX0dy"
      }
    },
    {
      "cell_type": "markdown",
      "source": [
        "# 데이터 불러오기 및 확인하기\n"
      ],
      "metadata": {
        "id": "89Ny_HZHZIQE"
      }
    },
    {
      "cell_type": "code",
      "source": [
        "from sklearn.datasets import load_iris\n",
        "\n",
        "# 데이터 불러오기\n",
        "iris_dataset=load_iris()\n",
        "\n",
        "#데이터 확인하기\n",
        "print(iris_dataset.DESCR)\n",
        "\n",
        "# 150개의 instance가 존재하고 클래스마다 50개가 존재하니 클래스의 수는 3개이다. (setosa, versicolour, Virginica)\n",
        "# 4개의 attributes들 sepal length, sepal width, petal length, petal width"
      ],
      "metadata": {
        "id": "sF6JNJnFYeyD"
      },
      "execution_count": null,
      "outputs": []
    },
    {
      "cell_type": "code",
      "source": [
        "print(iris_dataset.data) # attributes 들의 데이터 정보\n",
        "print(iris_dataset.data.shape) # (150,4) 튜플 반환\n",
        "print(iris_dataset.feature_names) # attributes들의 이름\n",
        "print(iris_dataset.target_names) # class(타겟)의 이름\n",
        "print(iris_dataset.target) # 각 행마다 클래스 인덱스 번호"
      ],
      "metadata": {
        "id": "-pXxSwnTajtc"
      },
      "execution_count": null,
      "outputs": []
    },
    {
      "cell_type": "markdown",
      "source": [
        "# 데이터프레임화하기\n"
      ],
      "metadata": {
        "id": "TEwmKLutcZuN"
      }
    },
    {
      "cell_type": "code",
      "source": [
        "import pandas as pd\n",
        "iris_dataframe=pd.DataFrame(data=iris_dataset.data,columns=iris_dataset.feature_names,dtype=float)\n",
        "iris_dataframe # 칼럼은 feature_names로 데이터타입은 float\n"
      ],
      "metadata": {
        "id": "fh9o8FXya-DR"
      },
      "execution_count": null,
      "outputs": []
    },
    {
      "cell_type": "markdown",
      "source": [
        "## 데이터 명 변경\n"
      ],
      "metadata": {
        "id": "NLxEo1_QdrAy"
      }
    },
    {
      "cell_type": "code",
      "source": [
        "# df.raname\n",
        "iris_dataframe.rename(columns={'sepal length (cm)': '꽃받침 길이 (cm)',\n",
        "                               'sepal width (cm)':'꽃받침 넓이 (cm)',\n",
        "                               'petal length (cm)':'꽃잎 길이 (cm)',\n",
        "                               'petal width (cm)':'꽃잎 넓이 (cm)'},\n",
        "                      inplace=True\n",
        ")"
      ],
      "metadata": {
        "id": "GNAybVrSds6T"
      },
      "execution_count": null,
      "outputs": []
    },
    {
      "cell_type": "markdown",
      "source": [
        "# 데이터 분석 (상관관계와 이상치 탐지)"
      ],
      "metadata": {
        "id": "ZugmQayyZokE"
      }
    },
    {
      "cell_type": "markdown",
      "source": [
        "## 상관관계"
      ],
      "metadata": {
        "id": "ds83pBMcwmcw"
      }
    },
    {
      "cell_type": "code",
      "source": [
        "iris_dataframe.info()"
      ],
      "metadata": {
        "id": "7GNwzrZ6Yesq"
      },
      "execution_count": null,
      "outputs": []
    },
    {
      "cell_type": "markdown",
      "source": [
        "데이터내에 Nan 결측치는 없는지 확인하기\n",
        "150개로 결측치는 없음"
      ],
      "metadata": {
        "id": "IbIRASg7gCgM"
      }
    },
    {
      "cell_type": "code",
      "source": [
        "iris_dataframe.describe()\n",
        "# 요약 통계량\n",
        "# 평균 표준편차 최소값 최댓값을 볼 수 있다."
      ],
      "metadata": {
        "id": "9gcwD3hqgLn7"
      },
      "execution_count": null,
      "outputs": []
    },
    {
      "cell_type": "code",
      "source": [
        "iris_dataframe.corr()\n",
        "# 다음과 같은 상관관계를 보자면,\n",
        "# 꽃받침의 길이와 꽃잎 길이의 상관관계가 0.871로 양의 상관관계이다.\n",
        "# 즉, 꽃받침의 길이가 커지면 꽃잎 길이도 똑같이 커진다는 의미가 된다.\n",
        "\n",
        "# 꽃받침 길이와 꽃잎 넓이또한 마찬가지이다.\n",
        "# 꽃잎길이와 꽃잎의 넓이 또한 양의 상관관계이다.\n",
        "\n",
        "# 의외로 꽃받침 넓이가 크다해도 꽃받침의 길이가 크다는 가정은 사실이 아님을 확인할 수 있다."
      ],
      "metadata": {
        "id": "UFTJLIhkgvCf"
      },
      "execution_count": null,
      "outputs": []
    },
    {
      "cell_type": "markdown",
      "source": [
        "다음과 같은 상관관계를 보자면,\n",
        "\n",
        "꽃받침의 길이와 꽃잎 길이의 상관관계가 0.871로 양의 상관관계이다.\n",
        "\n",
        "즉, 꽃받침의 길이가 커지면 꽃잎 길이도 똑같이 커진다는 의미가 된다.\n",
        "\n",
        "꽃받침 길이와 꽃잎 넓이또한 마찬가지이다.\n",
        "\n",
        "꽃잎길이와 꽃잎의 넓이 또한 양의 상관관계이다.\n",
        "\n",
        "의외로 꽃받침 넓이가 크다한들 꽃받침의 길이가 크다는 가정은 사실이 아님을 확인할 수 있다.\n",
        "\n",
        "즉 상관관계가 희미하다."
      ],
      "metadata": {
        "id": "FRszyyVsiHDd"
      }
    },
    {
      "cell_type": "code",
      "source": [
        "iris_dataframe.sort_values(by=['꽃받침 길이 (cm)','꽃잎 길이 (cm)'],ascending=True)\n",
        "# 보면 어느 정도 꽃잎의 길이가 커질 수록 꽃받침의 길이 역시 커지는 걸 확인할 수 있다."
      ],
      "metadata": {
        "id": "iZbvx_qciaBm"
      },
      "execution_count": null,
      "outputs": []
    },
    {
      "cell_type": "code",
      "source": [
        "iris_dataframe.sort_values(by='꽃받침 길이 (cm)',ascending=True)\n",
        "\n",
        "# 반면 꽃받침 길이가 크다해서 꽃받침 넓이가 크다 혹은 꽃받침 길이가 작다해서 꽃받침 넓이가 작다 이러한 가정은 틀린 것을 알 수 있다.\n",
        "\n",
        "# 꽃받침의 길이가 어떠한 것이든 상관 없이 관계를 볼 수 없는 모습을 볼 수 있다. 둘간의 의미 있는 결과를 도출할 확률은 희박하다.\n",
        "\n",
        "# 상관관계가 0에 가까울수록 그렇다."
      ],
      "metadata": {
        "id": "s-PsE_G-j6gN"
      },
      "execution_count": null,
      "outputs": []
    },
    {
      "cell_type": "code",
      "source": [
        "꽃받침_길이=iris_dataframe.groupby(\"꽃받침 길이 (cm)\").mean()\n",
        "꽃받침_길이.head()"
      ],
      "metadata": {
        "id": "ci308gpEk1nm"
      },
      "execution_count": null,
      "outputs": []
    },
    {
      "cell_type": "code",
      "source": [
        "!sudo apt-get install -y fonts-nanum\n",
        "!sudo fc-cache -fv\n",
        "!rm ~/.cache/matplotlib -rf"
      ],
      "metadata": {
        "id": "U6D0fM4WnAgO"
      },
      "execution_count": null,
      "outputs": []
    },
    {
      "cell_type": "code",
      "source": [
        "import matplotlib.pyplot as plt\n",
        "\n",
        "plt.figure()\n",
        "plt.rc('font', family='NanumBarunGothic')\n",
        "plt.plot(꽃받침_길이['꽃받침 넓이 (cm)'])\n",
        "plt.xlabel(\"꽃받침 길이\")\n",
        "plt.ylabel(\"꽃받침 넓이\")\n",
        "plt.show()\n",
        "\n",
        "#그래프를 보면 꽃받침 길이와 꽃받침 넓이와는 상관관계를 볼 수 없을 것이다."
      ],
      "metadata": {
        "id": "0LAMwTbJl38G"
      },
      "execution_count": null,
      "outputs": []
    },
    {
      "cell_type": "markdown",
      "source": [
        "## 박스 그래프"
      ],
      "metadata": {
        "id": "WDgeUIeywp3w"
      }
    },
    {
      "cell_type": "code",
      "source": [
        "plt.figure()\n",
        "\n",
        "plt.subplot(181)\n",
        "plt.boxplot(list(iris_dataframe['꽃받침 길이 (cm)']))\n",
        "plt.ylabel(\"꽃받침 길이\")\n",
        "\n",
        "plt.subplot(183)\n",
        "plt.boxplot(list(iris_dataframe['꽃받침 넓이 (cm)']))\n",
        "plt.ylabel(\"꽃받침 넓이\")\n",
        "\n",
        "plt.subplot(185)\n",
        "plt.boxplot(list(iris_dataframe['꽃잎 길이 (cm)']))\n",
        "plt.ylabel(\"꽃잎 길이\")\n",
        "\n",
        "plt.subplot(187)\n",
        "plt.boxplot(list(iris_dataframe['꽃잎 넓이 (cm)']))\n",
        "plt.ylabel(\"꽃잎 넓이\")\n",
        "\n",
        "plt.show()"
      ],
      "metadata": {
        "id": "3m8P0rT0opZw"
      },
      "execution_count": null,
      "outputs": []
    },
    {
      "cell_type": "markdown",
      "source": [
        "꽃받침 넓이에 이상치가 존재함을 알 수 있다."
      ],
      "metadata": {
        "id": "3p5TINDqopTG"
      }
    },
    {
      "cell_type": "code",
      "source": [
        "def findOutliers(x,column):\n",
        "  q1=x[column].quantile(0.25)\n",
        "\n",
        "  q3=x[column].quantile(0.75)\n",
        "\n",
        "  iqr=1.5*(q3-q1)\n",
        "\n",
        "  y=x[(x[column]>(q3+iqr)) | (x[column]<(q1-iqr))]\n",
        "\n",
        "  return len(y)\n",
        "\n",
        "print(f'꽃받침 길이의 이상치 개수는? {findOutliers(iris_dataframe,\"꽃받침 길이 (cm)\")}')\n",
        "print(f'꽃받침 넓이의 이상치 개수는? {findOutliers(iris_dataframe,\"꽃받침 넓이 (cm)\")}')\n",
        "\n"
      ],
      "metadata": {
        "id": "28FUkejWopPF"
      },
      "execution_count": null,
      "outputs": []
    },
    {
      "cell_type": "markdown",
      "source": [
        "Z_score1.96=(x-x의 평균 / x 의 표준편차)>1.96  이상치 (범위 밖에존재하는 )\n"
      ],
      "metadata": {
        "id": "UO0pQhW80hkg"
      }
    },
    {
      "cell_type": "code",
      "source": [
        "def changeOutliers(x,column):\n",
        "  q1=x[column].quantile(0.25)\n",
        "\n",
        "  q3=x[column].quantile(0.75)\n",
        "\n",
        "  iqr=1.5*(q3-q1)\n",
        "\n",
        "  Min=(q1-iqr)\n",
        "  Max=(q3+iqr)\n",
        "\n",
        "  x.loc[x[column]>Max,column]=Max\n",
        "  x.loc[x[column]<Min,column]=Min\n",
        "\n",
        "  return x\n",
        "\n",
        "iris_dataframe_without_outliers=changeOutliers(iris_dataframe,\"꽃받침 넓이 (cm)\")\n",
        "\n",
        "# 이상치 제거 되었는지 확인하기\n",
        "\n",
        "plt.boxplot(x=list(iris_dataframe_without_outliers['꽃받침 넓이 (cm)']))\n",
        "plt.ylabel(\"꽃받침 넓이 (cm)\")\n",
        "\n",
        "print(f\"이상치 개수: {findOutliers(iris_dataframe_without_outliers,'꽃받침 넓이 (cm)')}\")"
      ],
      "metadata": {
        "id": "n9cL2m2m0yNA"
      },
      "execution_count": null,
      "outputs": []
    },
    {
      "cell_type": "markdown",
      "source": [
        "# 학습하기\n",
        "\n",
        "위와 같은 Feature_names로 Class를 확인해보기"
      ],
      "metadata": {
        "id": "iVthLcCM2yg6"
      }
    },
    {
      "cell_type": "markdown",
      "source": [
        "## 데이터칼럼 추가[정답값]"
      ],
      "metadata": {
        "id": "Hy_E2Y-45-gh"
      }
    },
    {
      "cell_type": "code",
      "source": [
        "iris_dataframe_without_outliers['정답값']=iris_dataset.target\n",
        "iris_dataframe_without_outliers['정답값']=iris_dataframe_without_outliers['정답값'].map({0:\"Setosa\",1:\"Versicolor\",2:'virginica'}) # map함수를 좀 알아야겠다.\n",
        "iris_dataframe_without_outliers['정답값'].astype(str)\n",
        "iris_dataframe_without_outliers.info()"
      ],
      "metadata": {
        "id": "VxjWSbv33Kw5"
      },
      "execution_count": null,
      "outputs": []
    },
    {
      "cell_type": "markdown",
      "source": [
        "## X,y 분류하기"
      ],
      "metadata": {
        "id": "52Kwr8-E6CeZ"
      }
    },
    {
      "cell_type": "code",
      "source": [
        "X=iris_dataframe_without_outliers.drop(columns=['정답값'],axis=1)\n",
        "y=iris_dataframe_without_outliers['정답값']\n",
        "X.head(3)"
      ],
      "metadata": {
        "id": "I8LfF2M55aeZ"
      },
      "execution_count": null,
      "outputs": []
    },
    {
      "cell_type": "code",
      "source": [
        "y.head()"
      ],
      "metadata": {
        "id": "RTlHdiY_5yWL"
      },
      "execution_count": null,
      "outputs": []
    },
    {
      "cell_type": "markdown",
      "source": [
        "## Train_Test_split 하기"
      ],
      "metadata": {
        "id": "nfZR6qLC6IJg"
      }
    },
    {
      "cell_type": "code",
      "source": [
        "from sklearn.model_selection import train_test_split\n",
        "\n",
        "X_train,X_test,y_train,y_test=train_test_split(X,y,\n",
        "                                               test_size=0.2, # 0.2 비율의 test_size\n",
        "                                               shuffle=True, # 무작위 섞기\n",
        "                                               random_state=42 # reproductive를 위한 seed 지정)\n",
        ")\n",
        "print(f\"X_train.shape: {X_train.shape}\")\n",
        "print(f\"X_test.shape: {X_test.shape}\")\n",
        "print(f\"y_train.shape: {y_train.shape}\")\n",
        "print(f\"y_test.shape: {y_test.shape}\")"
      ],
      "metadata": {
        "id": "uC45hWsP6Ong"
      },
      "execution_count": null,
      "outputs": []
    },
    {
      "cell_type": "markdown",
      "source": [
        "## 모델 선언 및 학습\n",
        "\n",
        "KNN (최근접 이웃)"
      ],
      "metadata": {
        "id": "yvNQXeXN7lSK"
      }
    },
    {
      "cell_type": "code",
      "source": [
        "from sklearn.neighbors import KNeighborsClassifier\n",
        "\n",
        "model=KNeighborsClassifier(n_neighbors=1)\n",
        "\n",
        "model.fit(X_train,y_train)"
      ],
      "metadata": {
        "id": "ys5Z1TV47sHx"
      },
      "execution_count": null,
      "outputs": []
    },
    {
      "cell_type": "markdown",
      "source": [
        "## 모델 스코어 평가"
      ],
      "metadata": {
        "id": "zfxdo03y8DJh"
      }
    },
    {
      "cell_type": "code",
      "source": [
        "print('Score for Train Data: ', model.score(X_train,y_train))\n",
        "print('Score for Test Data: ', model.score(X_test,y_test))"
      ],
      "metadata": {
        "id": "vECavJ948FUS"
      },
      "execution_count": null,
      "outputs": []
    },
    {
      "cell_type": "markdown",
      "source": [
        "## 학습된 모델로 예측해보기"
      ],
      "metadata": {
        "id": "FXrs8ho38Tpv"
      }
    },
    {
      "cell_type": "code",
      "source": [
        "predict_y=model.predict(X_test)\n",
        "predict_y\n",
        "\n",
        "import pandas as pd\n",
        "\n",
        "df_predict=pd.DataFrame(predict_y,columns=['predicted labels'])\n",
        "df_predict"
      ],
      "metadata": {
        "id": "AOcxEqTg8ToY"
      },
      "execution_count": null,
      "outputs": []
    }
  ]
}