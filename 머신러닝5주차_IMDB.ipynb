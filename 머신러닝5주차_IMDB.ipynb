{
  "nbformat": 4,
  "nbformat_minor": 0,
  "metadata": {
    "colab": {
      "private_outputs": true,
      "provenance": [],
      "authorship_tag": "ABX9TyNe8S+LTrjdF/Cn0xJbu09c",
      "include_colab_link": true
    },
    "kernelspec": {
      "name": "python3",
      "display_name": "Python 3"
    },
    "language_info": {
      "name": "python"
    },
    "accelerator": "GPU",
    "gpuClass": "standard"
  },
  "cells": [
    {
      "cell_type": "markdown",
      "metadata": {
        "id": "view-in-github",
        "colab_type": "text"
      },
      "source": [
        "<a href=\"https://colab.research.google.com/github/youse0ng/AIProgramming/blob/main/%EB%A8%B8%EC%8B%A0%EB%9F%AC%EB%8B%9D5%EC%A3%BC%EC%B0%A8_IMDB.ipynb\" target=\"_parent\"><img src=\"https://colab.research.google.com/assets/colab-badge.svg\" alt=\"Open In Colab\"/></a>"
      ]
    },
    {
      "cell_type": "code",
      "execution_count": null,
      "metadata": {
        "id": "uTWnSOrCFEsc"
      },
      "outputs": [],
      "source": [
        "import tensorflow.keras as keras\n",
        "from tensorflow.keras.datasets import imdb\n",
        "from tensorflow.keras.preprocessing import sequence\n",
        "from tensorflow.keras import layers\n",
        "from tensorflow.keras.models import Sequential\n",
        "from keras.utils import np_utils\n",
        "import numpy as np\n",
        "import os\n",
        "#라이브러리 선언"
      ]
    },
    {
      "cell_type": "code",
      "source": [
        "import tensorflow.keras as keras\n",
        "from tensorflow.keras.datasets import cifar10\n",
        "from tensorflow.keras.preprocessing import sequence\n",
        "from tensorflow.keras import layers\n",
        "from tensorflow.keras.models import Sequential\n",
        "import os"
      ],
      "metadata": {
        "id": "Vd1BwGIfThvi"
      },
      "execution_count": null,
      "outputs": []
    },
    {
      "cell_type": "code",
      "source": [
        "try:\n",
        "  os.mkdir('my_log_dir')\n",
        "  callback=[keras.callbacks.TensorBoard(log_dir='my_log_dir',histogram_freq=1,embeddings_freq=1)]\n",
        "except:\n",
        "  print('해당 폴더가 이미 있습니다.')"
      ],
      "metadata": {
        "id": "UMkDU0hF1uUR"
      },
      "execution_count": null,
      "outputs": []
    },
    {
      "cell_type": "code",
      "source": [
        "(x_train, y_train), (x_test, y_test) = cifar10.load_data()"
      ],
      "metadata": {
        "id": "b6I-g-7KFdSc"
      },
      "execution_count": null,
      "outputs": []
    },
    {
      "cell_type": "code",
      "source": [
        "print(x_train)"
      ],
      "metadata": {
        "id": "eiSdMGLvUDWT"
      },
      "execution_count": null,
      "outputs": []
    },
    {
      "cell_type": "code",
      "source": [
        "print(x_train.size)\n",
        "print(y_train.size)\n",
        "print(x_train)\n",
        "print(y_train)"
      ],
      "metadata": {
        "id": "_j0ev-23GJH7"
      },
      "execution_count": null,
      "outputs": []
    },
    {
      "cell_type": "code",
      "source": [
        "x_train=sequence.pad_sequences(x_train,maxlen=max_len)\n",
        "x_test=sequence.pad_sequences(x_test,maxlen=max_len)\n",
        "\n",
        "print(x_train[0])\n",
        "# 500개의 원소 빈자리는 제로패딩을 해준 모습"
      ],
      "metadata": {
        "id": "WfCjqgMKF0tR"
      },
      "execution_count": null,
      "outputs": []
    },
    {
      "cell_type": "code",
      "source": [
        "model=keras.models.Sequential()\n",
        "model.add(layers.Embedding(max_feature,128,input_length=max_len,name='embed'))\n",
        "model.add(layers.Conv1D(32,7,activation='relu'))\n",
        "model.add(layers.MaxPooling1D(5))\n",
        "model.add(layers.Conv1D(32,7,activation='relu'))\n",
        "model.add(layers.GlobalMaxPooling1D())\n",
        "model.add(layers.Dense(1))\n",
        "model.summary()\n",
        "# 모델 생성"
      ],
      "metadata": {
        "id": "k3mTUEfHJ8f5"
      },
      "execution_count": null,
      "outputs": []
    },
    {
      "cell_type": "code",
      "source": [
        "model.compile(optimizer='rmsprop',loss='binary_crossentropy',metrics=['acc'])"
      ],
      "metadata": {
        "id": "EjZnKawBxMa-"
      },
      "execution_count": null,
      "outputs": []
    },
    {
      "cell_type": "code",
      "source": [
        "class myCallback(keras.callbacks.Callback):\n",
        "  def on_epoch_end(self, epoch, logs={}):\n",
        "    if logs.get('acc')>0.97:\n",
        "      print(\"Cancel the training\")\n",
        "      self.model.stop_training=True\n",
        "\n",
        "callbacks=myCallback()"
      ],
      "metadata": {
        "id": "7_nOYt8l6jKR"
      },
      "execution_count": null,
      "outputs": []
    },
    {
      "cell_type": "code",
      "source": [
        "callbacks=[keras.callbacks.TensorBoard(\n",
        "    log_dir='my_log_dir7',\n",
        "    histogram_freq=1,\n",
        "    embeddings_freq=1,\n",
        ")\n",
        "]"
      ],
      "metadata": {
        "id": "4U5WbJetDlmk"
      },
      "execution_count": null,
      "outputs": []
    },
    {
      "cell_type": "code",
      "source": [
        "history=model.fit(x_train,y_train,epochs=20,batch_size=128,validation_split=0.2,callbacks=callbacks)"
      ],
      "metadata": {
        "id": "ZFQ-fKWYxXr-"
      },
      "execution_count": null,
      "outputs": []
    },
    {
      "cell_type": "code",
      "source": [
        "%load_ext tensorboard\n",
        "%tensorboard --logdir=my_log_dir7"
      ],
      "metadata": {
        "id": "c-ukJKck7HuJ"
      },
      "execution_count": null,
      "outputs": []
    },
    {
      "cell_type": "code",
      "source": [
        "%load_ext tensorboard\n",
        "%tensorboard --logdir=my_log_dir7"
      ],
      "metadata": {
        "id": "uWlVevf-FoJn"
      },
      "execution_count": null,
      "outputs": []
    }
  ]
}