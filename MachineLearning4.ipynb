{
  "nbformat": 4,
  "nbformat_minor": 0,
  "metadata": {
    "colab": {
      "provenance": [],
      "authorship_tag": "ABX9TyPpEKLUdxe7TDFo0tEWgRSa",
      "include_colab_link": true
    },
    "kernelspec": {
      "name": "python3",
      "display_name": "Python 3"
    },
    "language_info": {
      "name": "python"
    }
  },
  "cells": [
    {
      "cell_type": "markdown",
      "metadata": {
        "id": "view-in-github",
        "colab_type": "text"
      },
      "source": [
        "<a href=\"https://colab.research.google.com/github/youse0ng/AIProgramming/blob/main/MachineLearning4.ipynb\" target=\"_parent\"><img src=\"https://colab.research.google.com/assets/colab-badge.svg\" alt=\"Open In Colab\"/></a>"
      ]
    },
    {
      "cell_type": "code",
      "execution_count": null,
      "metadata": {
        "colab": {
          "base_uri": "https://localhost:8080/"
        },
        "id": "TO3pZlBSrAcY",
        "outputId": "03c07ff6-437d-4850-a4c1-ed6b1042c7bd"
      },
      "outputs": [
        {
          "output_type": "stream",
          "name": "stdout",
          "text": [
            "['mean radius' 'mean texture' 'mean perimeter' 'mean area'\n",
            " 'mean smoothness' 'mean compactness' 'mean concavity'\n",
            " 'mean concave points' 'mean symmetry' 'mean fractal dimension'\n",
            " 'radius error' 'texture error' 'perimeter error' 'area error'\n",
            " 'smoothness error' 'compactness error' 'concavity error'\n",
            " 'concave points error' 'symmetry error' 'fractal dimension error'\n",
            " 'worst radius' 'worst texture' 'worst perimeter' 'worst area'\n",
            " 'worst smoothness' 'worst compactness' 'worst concavity'\n",
            " 'worst concave points' 'worst symmetry' 'worst fractal dimension']\n"
          ]
        }
      ],
      "source": [
        "import numpy as np\n",
        "import pandas as pd\n",
        "from sklearn import datasets\n",
        "from sklearn.model_selection import train_test_split\n",
        "\n",
        "from sklearn.tree import DecisionTreeClassifier\n",
        "from sklearn.neural_network import MLPClassifier\n",
        "from sklearn.ensemble import RandomForestClassifier\n",
        "\n",
        "from sklearn.datasets import make_classification\n",
        "import matplotlib.pyplot as plt\n",
        "\n",
        "cancer=datasets.load_breast_cancer()\n",
        "print(cancer.feature_names)"
      ]
    },
    {
      "cell_type": "code",
      "source": [
        "x_train,x_test,y_train,y_test=train_test_split(cancer.data,cancer.target,test_size=0.2,random_state=42)\n",
        "\n",
        "treetuning=DecisionTreeClassifier(max_depth=5,max_leaf_nodes=8)\n",
        "treetuning.fit(x_train,y_train)\n",
        "\n",
        "print(treetuning.score(x_train, y_train))\n",
        "print(treetuning.score(x_test, y_test))\n",
        "#파라미터 값 변경했을 때의 값"
      ],
      "metadata": {
        "colab": {
          "base_uri": "https://localhost:8080/"
        },
        "id": "G9GXzyiAvugx",
        "outputId": "eb84f082-3a65-4f36-fdf4-7718e3f528c0"
      },
      "execution_count": null,
      "outputs": [
        {
          "output_type": "stream",
          "name": "stdout",
          "text": [
            "0.9846153846153847\n",
            "0.9473684210526315\n"
          ]
        }
      ]
    },
    {
      "cell_type": "code",
      "source": [
        "tree=DecisionTreeClassifier()\n",
        "tree.fit(x_train,y_train)\n",
        "print(tree.score(x_train, y_train))\n",
        "print(tree.score(x_test, y_test))\n",
        "#튜닝 x 디시젼 트리"
      ],
      "metadata": {
        "colab": {
          "base_uri": "https://localhost:8080/"
        },
        "id": "-C8tRuynwLOZ",
        "outputId": "29b0238c-70e2-4682-a810-02d12746bd4f"
      },
      "execution_count": null,
      "outputs": [
        {
          "output_type": "stream",
          "name": "stdout",
          "text": [
            "1.0\n",
            "0.9298245614035088\n"
          ]
        }
      ]
    },
    {
      "cell_type": "code",
      "source": [
        "x_train,x_test,y_train,y_test=train_test_split(cancer.data,cancer.target, stratify=cancer.target,random_state=42)\n",
        "\n",
        "foresttuning= RandomForestClassifier(n_estimators=200,max_depth=8,random_state=0)\n",
        "foresttuning.fit(x_train,y_train)\n",
        "print(foresttuning.score(x_train, y_train))\n",
        "print(foresttuning.score(x_test, y_test))\n",
        "#튜닝 o, 랜덤 포레스트"
      ],
      "metadata": {
        "colab": {
          "base_uri": "https://localhost:8080/"
        },
        "id": "CW4PdCKczOsc",
        "outputId": "b4b2abfb-c013-4ec9-ab58-2187b37693df"
      },
      "execution_count": null,
      "outputs": [
        {
          "output_type": "stream",
          "name": "stdout",
          "text": [
            "1.0\n",
            "0.958041958041958\n"
          ]
        }
      ]
    },
    {
      "cell_type": "code",
      "source": [
        "x_train,x_test,y_train,y_test=train_test_split(cancer.data,cancer.target, stratify=cancer.target,random_state=42)\n",
        "\n",
        "forest= RandomForestClassifier(n_estimators=100,max_depth=3,random_state=0)\n",
        "forest.fit(x_train,y_train)\n",
        "print(forest.score(x_train, y_train))\n",
        "print(forest.score(x_test, y_test))\n",
        "#튜닝 X, 랜덤 포레스트"
      ],
      "metadata": {
        "colab": {
          "base_uri": "https://localhost:8080/"
        },
        "id": "FdMhDVuvzwWw",
        "outputId": "9d53d69a-f1b3-41f7-e1ac-82dfd71f0175"
      },
      "execution_count": null,
      "outputs": [
        {
          "output_type": "stream",
          "name": "stdout",
          "text": [
            "0.9765258215962441\n",
            "0.951048951048951\n"
          ]
        }
      ]
    },
    {
      "cell_type": "code",
      "source": [
        "mean_on_train=x_train.mean(axis=0)\n",
        "std_on_train=x_train.std(axis=0)\n",
        "\n",
        "x_train_scaled=(x_train-mean_on_train)/std_on_train\n",
        "x_test_scaled=(x_test-mean_on_train)/std_on_train\n",
        "#표준화"
      ],
      "metadata": {
        "id": "dqF9aME32lYI"
      },
      "execution_count": null,
      "outputs": []
    },
    {
      "cell_type": "code",
      "source": [
        "model=MLPClassifier(hidden_layer_sizes=(10,10,10),max_iter=200,verbose=0)\n",
        "model.fit(x_train_scaled,y_train)\n",
        "print(model.score(x_train_scaled, y_train))\n",
        "print(model.score(x_test_scaled, y_test))\n",
        "#표준화를 정의 했을때의 결과값"
      ],
      "metadata": {
        "colab": {
          "base_uri": "https://localhost:8080/"
        },
        "id": "erhsUE0U3tCe",
        "outputId": "d69053f3-2d58-470c-c442-b28cdd9c240b"
      },
      "execution_count": null,
      "outputs": [
        {
          "output_type": "stream",
          "name": "stdout",
          "text": [
            "0.9929577464788732\n",
            "0.9790209790209791\n"
          ]
        },
        {
          "output_type": "stream",
          "name": "stderr",
          "text": [
            "/usr/local/lib/python3.7/dist-packages/sklearn/neural_network/_multilayer_perceptron.py:696: ConvergenceWarning: Stochastic Optimizer: Maximum iterations (200) reached and the optimization hasn't converged yet.\n",
            "  ConvergenceWarning,\n"
          ]
        }
      ]
    },
    {
      "cell_type": "code",
      "source": [
        "x_train,x_test,y_train,y_test=train_test_split(cancer.data,cancer.target, stratify=cancer.target,random_state=42)\n",
        "\n",
        "model=MLPClassifier(hidden_layer_sizes=(10,10,10),max_iter=200,verbose=0)\n",
        "model.fit(x_train,y_train)\n",
        "print(model.score(x_train, y_train))\n",
        "print(model.score(x_test, y_test))\n",
        "#scaling 표준화 하지않았을 때, 퍼셉트론"
      ],
      "metadata": {
        "colab": {
          "base_uri": "https://localhost:8080/"
        },
        "id": "lAdUw7rv0mTH",
        "outputId": "f6f0a34e-f2a3-42f3-8704-74e3ddd326b0"
      },
      "execution_count": null,
      "outputs": [
        {
          "output_type": "stream",
          "name": "stdout",
          "text": [
            "0.9272300469483568\n",
            "0.9230769230769231\n"
          ]
        }
      ]
    }
  ]
}