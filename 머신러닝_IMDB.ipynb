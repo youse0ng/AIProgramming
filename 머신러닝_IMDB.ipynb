{
  "nbformat": 4,
  "nbformat_minor": 0,
  "metadata": {
    "colab": {
      "private_outputs": true,
      "provenance": [],
      "authorship_tag": "ABX9TyN2kqc1he5cTjpNZoWGB+Sg",
      "include_colab_link": true
    },
    "kernelspec": {
      "name": "python3",
      "display_name": "Python 3"
    },
    "language_info": {
      "name": "python"
    },
    "accelerator": "GPU",
    "gpuClass": "standard"
  },
  "cells": [
    {
      "cell_type": "markdown",
      "metadata": {
        "id": "view-in-github",
        "colab_type": "text"
      },
      "source": [
        "<a href=\"https://colab.research.google.com/github/youse0ng/AIProgramming/blob/main/%EB%A8%B8%EC%8B%A0%EB%9F%AC%EB%8B%9D_IMDB.ipynb\" target=\"_parent\"><img src=\"https://colab.research.google.com/assets/colab-badge.svg\" alt=\"Open In Colab\"/></a>"
      ]
    },
    {
      "cell_type": "code",
      "execution_count": null,
      "metadata": {
        "id": "q5pAT2L0DENC"
      },
      "outputs": [],
      "source": [
        "import tensorflow as tf\n",
        "\n",
        "imdb=tf.keras.datasets.imdb\n",
        "(train_data,train_labels),(test_data,test_labels)=imdb.load_data(num_words=10000)"
      ]
    },
    {
      "cell_type": "code",
      "source": [
        "print(train_data[0])\n",
        "print(train_labels[0])\n",
        "\n",
        "print(train_data.shape)\n",
        "print(test_data.shape)"
      ],
      "metadata": {
        "id": "Ufqar-OKFvpR"
      },
      "execution_count": null,
      "outputs": []
    },
    {
      "cell_type": "code",
      "source": [
        "import numpy as np\n",
        "\n",
        "def vectorize_sequences(sequences, dimension=10000): #사용빈도가 많은 10000단어만 사용\n",
        "  results=np.zeros((len(sequences), dimension))\n",
        "  print(results.shape)\n",
        "\n",
        "  for i, sequence in enumerate(sequences):\n",
        "    results[i, sequence] = 1.\n",
        "  return results\n",
        "\n",
        "x_train=vectorize_sequences(train_data)\n",
        "x_test=vectorize_sequences(test_data)\n",
        "\n",
        "print(x_train[0][:15]) #\n",
        "print(x_test[0][:15])\n",
        "\n",
        "y_train=np.asarray(train_labels).astype('float32')\n",
        "y_test=np.asarray(test_labels).astype('float32')\n",
        "\n",
        "print(y_train[0:15])"
      ],
      "metadata": {
        "id": "OPpAkMy-GBOr"
      },
      "execution_count": null,
      "outputs": []
    },
    {
      "cell_type": "code",
      "source": [
        "#MLP구조의 신경망모델\n",
        "\n",
        "from keras import models\n",
        "from keras import layers\n",
        "\n",
        "model=models.Sequential()\n",
        "model.add(layers.Dense(16,activation='relu',input_shape=(10000,)))\n",
        "model.add(layers.Dense(16, kernel_regularizer=regularizers.l2(0.01),activation='relu'))\n",
        "model.add(layers.Dense(1,activation='sigmoid'))\n",
        "\n",
        "model.summary()"
      ],
      "metadata": {
        "id": "pFvofYDUIa7I"
      },
      "execution_count": null,
      "outputs": []
    },
    {
      "cell_type": "code",
      "source": [
        "model.compile(optimizer='rmsprop',loss='binary_crossentropy',metrics=['acc'])\n",
        "#손실함수\n"
      ],
      "metadata": {
        "id": "mMxXrOy3KM19"
      },
      "execution_count": null,
      "outputs": []
    },
    {
      "cell_type": "code",
      "source": [
        "history=model.fit(x_train,y_train,epochs=20,batch_size=512)\n",
        "print(model.evaluate(x_test,y_test))"
      ],
      "metadata": {
        "id": "wtSOAfARECyh"
      },
      "execution_count": null,
      "outputs": []
    },
    {
      "cell_type": "code",
      "source": [
        "import tensorflow as tf\n",
        "\n",
        "imdb=tf.keras.datasets.imdb\n",
        "(input_train,y_train),(input_test,y_test)=imdb.load_data(num_words=10000)"
      ],
      "metadata": {
        "id": "R6xIaHPvJVlj"
      },
      "execution_count": null,
      "outputs": []
    },
    {
      "cell_type": "code",
      "source": [
        "from tensorflow.keras.preprocessing import sequence\n",
        "from tensorflow.keras.preprocessing.sequence import pad_sequences\n",
        "#다른 길이의 시퀀스(문장길이를 pad를 통해 크기를 일치시키기 위해 불러옴)\n",
        "\n",
        "input_train=sequence.pad_sequences(input_train,500)\n",
        "input_test=sequence.pad_sequences(input_test,500)\n",
        "print(input_train.shape)\n",
        "print(input_test.shape)\n",
        "\n",
        "print(input_train[0])"
      ],
      "metadata": {
        "id": "5UcnW6m0Jhxv"
      },
      "execution_count": null,
      "outputs": []
    },
    {
      "cell_type": "code",
      "source": [
        "from keras import models\n",
        "from keras.layers import Embedding, Dense, Conv1D,MaxPooling1D,GlobalMaxPooling1D\n",
        "\n",
        "model1=models.Sequential()\n",
        "model1.add(Embedding(10000,128,input_length=500))\n",
        "model1.add(Conv1D(32,7,activation='relu'))\n",
        "model1.add(MaxPooling1D(5))\n",
        "model1.add(Conv1D(32,7,activation='relu'))\n",
        "model1.add(GlobalMaxPooling1D())\n",
        "model1.add(Dense(1))\n",
        "\n",
        "model1.summary()"
      ],
      "metadata": {
        "id": "-b3sFtaMJg45"
      },
      "execution_count": null,
      "outputs": []
    },
    {
      "cell_type": "code",
      "source": [
        "model1.compile(optimizer='rmsprop',loss='binary_crossentropy',metrics=['acc'])\n",
        "#손실함수\n"
      ],
      "metadata": {
        "id": "R5q1A2JxKJX1"
      },
      "execution_count": null,
      "outputs": []
    },
    {
      "cell_type": "code",
      "source": [
        "history1=model1.fit(input_train,y_train,epochs=20,batch_size=128,validation_split=0.2)"
      ],
      "metadata": {
        "id": "JfWGnFQNJj5P"
      },
      "execution_count": null,
      "outputs": []
    },
    {
      "cell_type": "code",
      "source": [
        "#MLP구조의 규제모델\n",
        "\n",
        "from keras import regularizers\n",
        "from keras import models\n",
        "from keras import layers\n",
        "model=models.Sequential()\n",
        "model.add(layers.Dense(16,activation='relu',input_shape=(10000,)))\n",
        "model.add(layers.Dense(16, kernel_regularizer=regularizers.l2(0.01),activation='relu'))\n",
        "model.add(layers.Dense(1,activation='sigmoid'))"
      ],
      "metadata": {
        "id": "bRS39fH3LAeb"
      },
      "execution_count": null,
      "outputs": []
    }
  ]
}