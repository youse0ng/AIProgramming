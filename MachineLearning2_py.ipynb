{
  "nbformat": 4,
  "nbformat_minor": 0,
  "metadata": {
    "colab": {
      "private_outputs": true,
      "provenance": [],
      "authorship_tag": "ABX9TyOLhNackF3kCpwKaMjGvlR3",
      "include_colab_link": true
    },
    "kernelspec": {
      "name": "python3",
      "display_name": "Python 3"
    },
    "language_info": {
      "name": "python"
    }
  },
  "cells": [
    {
      "cell_type": "markdown",
      "metadata": {
        "id": "view-in-github",
        "colab_type": "text"
      },
      "source": [
        "<a href=\"https://colab.research.google.com/github/youse0ng/AIProgramming/blob/main/MachineLearning2_py.ipynb\" target=\"_parent\"><img src=\"https://colab.research.google.com/assets/colab-badge.svg\" alt=\"Open In Colab\"/></a>"
      ]
    },
    {
      "cell_type": "code",
      "execution_count": null,
      "metadata": {
        "id": "slHpohxulBIR"
      },
      "outputs": [],
      "source": [
        "import numpy as np\n",
        "import pandas as pd\n",
        "from sklearn import datasets\n",
        "from sklearn.model_selection import train_test_split\n",
        "\n",
        "from sklearn.linear_model import LinearRegression\n",
        "from sklearn.linear_model import LogisticRegression\n",
        "from sklearn.naive_bayes import GaussianNB\n",
        "from sklearn import svm\n",
        "from sklearn import tree\n",
        "from sklearn.ensemble import RandomForestClassifier\n",
        "\n",
        "from sklearn.datasets import make_classification\n",
        "import matplotlib.pyplot as plt\n",
        "\n",
        "raw=datasets.load_breast_cancer()\n",
        "print(raw.feature_names)\n",
        "\n",
        "data=pd.DataFrame(raw.data)\n",
        "target=pd.DataFrame(raw.target)\n",
        "rawData=pd.concat([data,target],axis=1)\n",
        "\n",
        "print(data.shape)\n",
        "print(target.shape)\n",
        "print(rawData.shape)\n",
        "\n",
        "# rawData.columns=['mean radius', 'mean texture', 'mean perimeter', 'mean area',\n",
        "#'mean smoothness', 'mean compactness', 'mean concavity',\n",
        "#'mean concave points', 'mean symmetry', 'mean fractal dimension',\n",
        "#'radius error', 'texture error', 'perimeter error', 'area error',\n",
        "#'smoothness error', 'compactness error', 'concavity error',\n",
        "#'concave points error', 'symmetry error', 'fractal dimension error',\n",
        "#'worst radius', 'worst texture', 'worst perimeter', 'worst area',\n",
        "#'worst smoothness', 'worst compactness', 'worst concavity',\n",
        "#'worst concave points', 'worst symmetry', 'worst fractal dimension','cancer']\n",
        "\n",
        "#rawData.head(10)\n",
        "#x=rawData[['mean radius','mean texture']]\n",
        "#y=rawData['cancer']\n",
        "\n",
        "#print(x,x.shape)\n",
        "#print(y,y.shape)\n",
        "\n",
        "x_train, x_test ,y_train, y_test=train_test_split(x,y,test_size=0.25,random_state=0)\n",
        "\n",
        "model=LogisticRegression()\n",
        "model.fit(x_train,y_train)\n",
        "print(model.score(x_train, y_train))\n",
        "print(model.score(x_test, y_test))\n",
        "\n",
        "print(\"로지스틱 회귀: 트레인 accuracy: 약 0.896, 테스트 accuracy:약 0.902\")\n"
      ]
    },
    {
      "cell_type": "code",
      "source": [
        "#\n",
        "model = GaussianNB()\n",
        "model.fit(x_train, y_train)\n",
        "\n",
        "print(model.score(x_train, y_train))\n",
        "print(model.score(x_test, y_test))\n",
        "print(\"나이브 : 트레인 accuracy: 약 0.884, 테스트 accuracy:약 0.895\")"
      ],
      "metadata": {
        "id": "CO5P_t1Xuwxi"
      },
      "execution_count": null,
      "outputs": []
    },
    {
      "cell_type": "code",
      "source": [
        "model=tree.DecisionTreeClassifier()\n",
        "model.fit(x_train,y_train)\n",
        "\n",
        "print(model.score(x_train, y_train))\n",
        "print(model.score(x_test, y_test))\n",
        "print(\"트리: 트레인 accuracy: 1.0, 테스트 accuracy:약 0.867\")"
      ],
      "metadata": {
        "id": "llGDv2xUz974"
      },
      "execution_count": null,
      "outputs": []
    },
    {
      "cell_type": "code",
      "source": [
        "from sklearn.svm import SVC\n",
        "svm_model = SVC(kernel='poly')\n",
        "svm_model.fit(x_train,y_train)\n",
        "\n",
        "print(svm_model.score(x_train, y_train))\n",
        "print(svm_model.score(x_test, y_test))\n",
        "print(\"SVM: 트레인 accuracy:0.908, 테스트 accuracy:약 0.909\")"
      ],
      "metadata": {
        "id": "f5Fwwg6L1MFr"
      },
      "execution_count": null,
      "outputs": []
    }
  ]
}