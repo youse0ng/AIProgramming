{
  "nbformat": 4,
  "nbformat_minor": 0,
  "metadata": {
    "colab": {
      "private_outputs": true,
      "provenance": [],
      "toc_visible": true,
      "authorship_tag": "ABX9TyMRM6jS6tmkeL5/aJ6lfBcL",
      "include_colab_link": true
    },
    "kernelspec": {
      "name": "python3",
      "display_name": "Python 3"
    },
    "language_info": {
      "name": "python"
    }
  },
  "cells": [
    {
      "cell_type": "markdown",
      "metadata": {
        "id": "view-in-github",
        "colab_type": "text"
      },
      "source": [
        "<a href=\"https://colab.research.google.com/github/youse0ng/AIProgramming/blob/main/AIProgramming2.ipynb\" target=\"_parent\"><img src=\"https://colab.research.google.com/assets/colab-badge.svg\" alt=\"Open In Colab\"/></a>"
      ]
    },
    {
      "cell_type": "markdown",
      "source": [
        "# 인터넷 신규 가입 여부 예측"
      ],
      "metadata": {
        "id": "CiRSNovhKmQu"
      }
    },
    {
      "cell_type": "code",
      "source": [
        "# 필요라이브러리 불러오기\n",
        "import pandas as pd\n",
        "\n",
        "data_url='http://www-stat.wharton.upenn.edu/~waterman/DataSets/uva.txt'\n",
        "df=pd.read_table(data_url)\n",
        "df"
      ],
      "metadata": {
        "id": "7KkiHPyDLbxd"
      },
      "execution_count": null,
      "outputs": []
    },
    {
      "cell_type": "markdown",
      "source": [
        "11개의 특성과 19583개의 행 데이터"
      ],
      "metadata": {
        "id": "Z3Hu2EaGMsvu"
      }
    },
    {
      "cell_type": "markdown",
      "source": [
        "## 가정하기\n",
        "\n",
        "Sexual Preference 성적 선호도와 Marital Status (결혼 여부)는 인터넷 가입여부와의 상관관계는 없을 것이다."
      ],
      "metadata": {
        "id": "UteVPaXkMzak"
      }
    },
    {
      "cell_type": "markdown",
      "source": [
        "그래서 두개의 칼럼을 삭제하고 진행하겠다"
      ],
      "metadata": {
        "id": "n6v3sz_9MzYV"
      }
    },
    {
      "cell_type": "code",
      "source": [
        "df=df.drop(columns=['Sexual Preference','Marital Status'])\n",
        "df=df.drop(columns=['who'])"
      ],
      "metadata": {
        "id": "SGwRylBjMzVN"
      },
      "execution_count": null,
      "outputs": []
    },
    {
      "cell_type": "code",
      "source": [
        "df"
      ],
      "metadata": {
        "id": "aa8Ruh0bNkRG"
      },
      "execution_count": null,
      "outputs": []
    },
    {
      "cell_type": "markdown",
      "source": [
        "## 데이터 칼럼을 한국어로 바꾸기"
      ],
      "metadata": {
        "id": "tCT-CD9GMy_k"
      }
    },
    {
      "cell_type": "code",
      "source": [
        "df_changed=df.rename(columns={'Newbie': '신규 가입',\n",
        "              'Age':'나이',\n",
        "              'Gender':'성별',\n",
        "              'Household Income': '가계 소득',\n",
        "              'Country':'주',\n",
        "              'Education Attainment':'취득 학위',\n",
        "              'Major Occupation':'주요 직종',\n",
        "              'Years on Internet': '인터넷 사용햇수'})\n"
      ],
      "metadata": {
        "id": "Fs-I1E6CNX2E"
      },
      "execution_count": null,
      "outputs": []
    },
    {
      "cell_type": "code",
      "source": [
        "df_changed"
      ],
      "metadata": {
        "id": "fG2IuxvlQGMN"
      },
      "execution_count": null,
      "outputs": []
    },
    {
      "cell_type": "markdown",
      "source": [
        "## 인터넷 신규 가입 여부에 대한 데이터 이해"
      ],
      "metadata": {
        "id": "wAJOvgLLQVRW"
      }
    },
    {
      "cell_type": "code",
      "source": [
        "df_changed['신규 가입'].value_counts()\n",
        "\n",
        "# 신규가입한 인원은 4962명 신규가입 안한 인원은 14621명"
      ],
      "metadata": {
        "id": "tTPBLECtQGKN"
      },
      "execution_count": null,
      "outputs": []
    },
    {
      "cell_type": "code",
      "source": [
        "df_changed['나이'].value_counts() # 나중에 cut으로 구간 생성하자"
      ],
      "metadata": {
        "id": "8Z75TiTfQGIU"
      },
      "execution_count": null,
      "outputs": []
    },
    {
      "cell_type": "markdown",
      "source": [
        "6살부터 많게는 79살까지 다양한 연령층이 존재 cut으로 분류할것"
      ],
      "metadata": {
        "id": "r1R5CtrtQGGg"
      }
    },
    {
      "cell_type": "code",
      "source": [
        "df_changed['성별'].value_counts()\n",
        "\n",
        "# 남성이 설문조사에 많이 참여\n",
        "# 남성 13454, 여성: 6129 명"
      ],
      "metadata": {
        "id": "8RKnPqGwQ9XE"
      },
      "execution_count": null,
      "outputs": []
    },
    {
      "cell_type": "code",
      "source": [
        "df_changed['가계 소득'].value_counts()"
      ],
      "metadata": {
        "id": "-H_QVq0LQ9T4"
      },
      "execution_count": null,
      "outputs": []
    },
    {
      "cell_type": "code",
      "source": [
        "df_changed['주'].value_counts()"
      ],
      "metadata": {
        "id": "gnoGtVrLQGEe"
      },
      "execution_count": null,
      "outputs": []
    },
    {
      "cell_type": "code",
      "source": [
        "df_changed['취득 학위'].value_counts()"
      ],
      "metadata": {
        "id": "lETTmZiPQGCf"
      },
      "execution_count": null,
      "outputs": []
    },
    {
      "cell_type": "code",
      "source": [
        "df_changed['주요 직종'].value_counts()"
      ],
      "metadata": {
        "id": "2gd9Q6kQQGAl"
      },
      "execution_count": null,
      "outputs": []
    },
    {
      "cell_type": "code",
      "source": [
        "df_changed['인터넷 사용햇수'].value_counts()"
      ],
      "metadata": {
        "id": "IMRA50oJQF-5"
      },
      "execution_count": null,
      "outputs": []
    },
    {
      "cell_type": "code",
      "source": [
        "df_changed"
      ],
      "metadata": {
        "id": "CgQzrv3bSNNb"
      },
      "execution_count": null,
      "outputs": []
    },
    {
      "cell_type": "code",
      "source": [
        "df_changed.corr()\n",
        "# 나이와 신규가입에 관한 상관관계는 0.069로 미미하다."
      ],
      "metadata": {
        "id": "jMkJABqUSNLu"
      },
      "execution_count": null,
      "outputs": []
    },
    {
      "cell_type": "code",
      "source": [
        "# 성별과 신규가입의 어떤 범주형 관계가 있는가..?\n",
        "pd.crosstab(df_changed['성별'],df_changed['신규 가입'])\n",
        "\n",
        "# 신규가입을 안한 남성의 인원이 10000명"
      ],
      "metadata": {
        "id": "hO0_jChYTi_8"
      },
      "execution_count": null,
      "outputs": []
    },
    {
      "cell_type": "markdown",
      "source": [
        "어린이 5~9\n",
        "\n",
        "청소년 10 ~ 20\n",
        "\n",
        "성인 20 ~ 60\n",
        "\n",
        "노인 60~"
      ],
      "metadata": {
        "id": "QkB-YHbaXIa7"
      }
    },
    {
      "cell_type": "code",
      "source": [
        "df_changed['나이']=pd.cut(x=df_changed['나이'],bins=[5,10,20,60,df_changed['나이'].max()],labels=['어린이','청소년','성인','노인'])"
      ],
      "metadata": {
        "id": "S71gcP0WV9HE"
      },
      "execution_count": null,
      "outputs": []
    },
    {
      "cell_type": "code",
      "source": [
        "df_age=df_changed['나이'].value_counts()\n",
        "df_age.index"
      ],
      "metadata": {
        "id": "vZYBbLTkcHJO"
      },
      "execution_count": null,
      "outputs": []
    },
    {
      "cell_type": "code",
      "source": [
        "!sudo apt-get install -y fonts-nanum\n",
        "!sudo fc-cache -fv\n",
        "!rm ~/.cache/matplotlib -rf"
      ],
      "metadata": {
        "id": "EBm6YVNLc50U"
      },
      "execution_count": null,
      "outputs": []
    },
    {
      "cell_type": "code",
      "source": [
        "import matplotlib.pyplot as plt\n",
        "plt.figure()\n",
        "plt.pie(df_age,labels=df_age.index,autopct='%.1f%%')"
      ],
      "metadata": {
        "id": "tQgfsQeycDx1"
      },
      "execution_count": null,
      "outputs": []
    },
    {
      "cell_type": "code",
      "source": [
        "# 나이와 신규가입의 관계\n",
        "# 나이 묶기 [어린이, 청소년, 성인, 노인]\n",
        "# 성인의 신규가입이 가장많음 두번째는 청소년\n",
        "pd.crosstab(df_changed['나이'],df_changed['신규 가입'])"
      ],
      "metadata": {
        "id": "RT6vrQndSNJz"
      },
      "execution_count": null,
      "outputs": []
    },
    {
      "cell_type": "code",
      "source": [
        "df_changed.info()"
      ],
      "metadata": {
        "id": "HLMQ8XhHYM53"
      },
      "execution_count": null,
      "outputs": []
    },
    {
      "cell_type": "code",
      "source": [],
      "metadata": {
        "id": "jXo2bw92QF60"
      },
      "execution_count": null,
      "outputs": []
    },
    {
      "cell_type": "markdown",
      "source": [
        "## 해당 데이터프레임의 결측치 존재확인"
      ],
      "metadata": {
        "id": "2d8Bg3qQO0il"
      }
    },
    {
      "cell_type": "code",
      "source": [
        "df_changed.info()"
      ],
      "metadata": {
        "id": "1gMHeqceO7Jc"
      },
      "execution_count": null,
      "outputs": []
    },
    {
      "cell_type": "markdown",
      "source": [
        "나이, 가계소득에서 데이터 결측치가 있음을 확인할 수 있다.\n"
      ],
      "metadata": {
        "id": "MM6wyELhO-9c"
      }
    },
    {
      "cell_type": "code",
      "source": [
        "df_changed.isnull().sum()"
      ],
      "metadata": {
        "id": "JOAa2e7gwagY"
      },
      "execution_count": null,
      "outputs": []
    },
    {
      "cell_type": "markdown",
      "source": [
        "나이 :561개의 결측치, 가계소득: 3185개의 결측치가 존재\n",
        "\n",
        "데이터의 결측치를 제거하고 싶지만, 정보 손실이 심할거란 생각에 Mean 해당 칼럼의 mean을 구하여 결측치를 대신할 것이다."
      ],
      "metadata": {
        "id": "933iGg91PK_e"
      }
    },
    {
      "cell_type": "code",
      "source": [
        "a=df[df_changed['나이'].isnull()==True].index\n",
        "df_changed=df_changed.drop(index=a,axis=0)"
      ],
      "metadata": {
        "id": "v_qfMOF4PubO"
      },
      "execution_count": null,
      "outputs": []
    },
    {
      "cell_type": "code",
      "source": [
        "df_changed.isnull().sum()\n",
        "# 나이의 결측치 제거"
      ],
      "metadata": {
        "id": "dlDgZx4o9il9"
      },
      "execution_count": null,
      "outputs": []
    },
    {
      "cell_type": "markdown",
      "source": [
        "df_changed['가계 소득']에 있는 NaN에 최빈값으로 대체하기"
      ],
      "metadata": {
        "id": "JPlpxcyeEhOu"
      }
    },
    {
      "cell_type": "code",
      "source": [
        "df_changed['가계 소득'].fillna(df_changed['가계 소득'].mode()[0],inplace=True)"
      ],
      "metadata": {
        "id": "_Jhlt3Js-kpg"
      },
      "execution_count": null,
      "outputs": []
    },
    {
      "cell_type": "code",
      "source": [
        "df_changed"
      ],
      "metadata": {
        "id": "uwK0pHiQBtHf"
      },
      "execution_count": null,
      "outputs": []
    },
    {
      "cell_type": "code",
      "source": [
        "df=pd.get_dummies(df_changed,columns=['성별'])\n",
        "df.head()"
      ],
      "metadata": {
        "id": "a-ZXQjKfG1yj"
      },
      "execution_count": null,
      "outputs": []
    },
    {
      "cell_type": "code",
      "source": [
        "# 사이킷런으로 레이블 인코딩하기\n",
        "from sklearn.preprocessing import LabelEncoder\n",
        "le=LabelEncoder()\n",
        "category_col=['나이','가계 소득','주','취득 학위','주요 직종','인터넷 사용햇수']\n",
        "# labelEncoder로 나머지 칼럼들 레이블 인코딩하기\n",
        "for col in category_col:\n",
        "  df[col]=le.fit_transform(df[col])\n",
        "\n",
        "df.head()"
      ],
      "metadata": {
        "id": "rNuCXXkhIYz2"
      },
      "execution_count": null,
      "outputs": []
    },
    {
      "cell_type": "markdown",
      "source": [
        "# 학습데이터와 정답데이터 분리"
      ],
      "metadata": {
        "id": "XyGQ96PJJdWW"
      }
    },
    {
      "cell_type": "code",
      "source": [
        "# 학습 데이터\n",
        "X=df.drop(columns=['신규 가입'])\n",
        "X"
      ],
      "metadata": {
        "id": "sp4RmNNqJZEY"
      },
      "execution_count": null,
      "outputs": []
    },
    {
      "cell_type": "code",
      "source": [
        "# 정답 데이터\n",
        "y=df['신규 가입']\n",
        "y"
      ],
      "metadata": {
        "id": "Dru2D7n0J8Um"
      },
      "execution_count": null,
      "outputs": []
    },
    {
      "cell_type": "code",
      "source": [
        "# 학습데이터 정답데이터 분리 및 검증데이터 분리\n",
        "from sklearn.model_selection import train_test_split\n",
        "\n",
        "X_train,X_test,y_train,y_test=train_test_split(X,y,\n",
        "                                               test_size=0.2,\n",
        "                                               random_state=42,\n",
        "                                               shuffle=True)\n",
        "X_train.shape, X_test.shape, y_train.shape ,y_test.shape"
      ],
      "metadata": {
        "id": "jsh8hxvgKRSe"
      },
      "execution_count": null,
      "outputs": []
    },
    {
      "cell_type": "markdown",
      "source": [
        "# 모델 선언"
      ],
      "metadata": {
        "id": "MwPzQGBdK31t"
      }
    },
    {
      "cell_type": "code",
      "source": [],
      "metadata": {
        "id": "czVMaomQK8rg"
      },
      "execution_count": null,
      "outputs": []
    },
    {
      "cell_type": "code",
      "source": [],
      "metadata": {
        "id": "niTY-av1K8pg"
      },
      "execution_count": null,
      "outputs": []
    },
    {
      "cell_type": "code",
      "source": [],
      "metadata": {
        "id": "rWyjXHkhK8mJ"
      },
      "execution_count": null,
      "outputs": []
    },
    {
      "cell_type": "code",
      "source": [],
      "metadata": {
        "id": "Cv8sVcSMK8j4"
      },
      "execution_count": null,
      "outputs": []
    },
    {
      "cell_type": "code",
      "source": [],
      "metadata": {
        "id": "JC2MYu2dK8h3"
      },
      "execution_count": null,
      "outputs": []
    },
    {
      "cell_type": "code",
      "source": [],
      "metadata": {
        "id": "ahhthe1PK8f4"
      },
      "execution_count": null,
      "outputs": []
    },
    {
      "cell_type": "code",
      "source": [],
      "metadata": {
        "id": "FraE2xdeK8cv"
      },
      "execution_count": null,
      "outputs": []
    },
    {
      "cell_type": "code",
      "source": [],
      "metadata": {
        "id": "1F7eq91MK8ZE"
      },
      "execution_count": null,
      "outputs": []
    },
    {
      "cell_type": "code",
      "source": [],
      "metadata": {
        "id": "lCXNL2-PK8W1"
      },
      "execution_count": null,
      "outputs": []
    }
  ]
}